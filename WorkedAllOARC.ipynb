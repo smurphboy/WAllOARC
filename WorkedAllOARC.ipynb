{
 "cells": [
  {
   "cell_type": "markdown",
   "metadata": {},
   "source": [
    "# Worked All OARC\n",
    "\n",
    "## Imports\n",
    "\n",
    "First we do all of our imports. Ideally we import in alphabetical order, and I wish there was a way to generate `requirements.txt` from it directly.\n",
    "\n",
    "I also detect if running on Google Colab as I need to import from here..."
   ]
  },
  {
   "cell_type": "code",
   "execution_count": 3,
   "metadata": {},
   "outputs": [],
   "source": [
    "import os\n",
    "\n",
    "if 'COLAB_GPU' in os.environ:\n",
    "    !pip install ctyparser maidenhead ipyleaflet ipywidgets\n",
    "    from google.auth import default\n",
    "    from google.colab import auth, drive\n",
    "    from googleapiclient.http import MediaIoBaseDownload\n",
    "    from googleapiclient.discovery import build\n",
    "\n",
    "import ctyparser\n",
    "import gspread as gs\n",
    "import ipywidgets as widgets\n",
    "import maidenhead as mh\n",
    "import matplotlib\n",
    "import pandas as pd\n",
    "import re\n",
    "from ipyleaflet import Map, basemaps, basemap_to_tiles, Marker, MarkerCluster\n",
    "from ipywidgets import interact, interact_manual\n"
   ]
  },
  {
   "cell_type": "markdown",
   "metadata": {},
   "source": [
    "## Set up Google Sheet credentials\n",
    "\n",
    "Some nasty little tricks needed here:\n",
    "\n",
    "1. For local environment, we use a .json file in the parent so it won't be pushed to github\n",
    "1. For Netlify deployment, we detect it by reading the Environment Variable `NETLIFY`\n",
    "   1. Then we read all the env vars into a dictionary\n",
    "   2. We have to replace all the `'\\\\n'` with `'\\n'` as the extra `'\\'` gets added\n",
    "1. Then we get access to the Google Sheet"
   ]
  },
  {
   "cell_type": "code",
   "execution_count": 4,
   "metadata": {},
   "outputs": [],
   "source": [
    "def create_keyfile_dict():\n",
    "    variables_keys = {\n",
    "       \"type\": os.getenv(\"TYPE\"),\n",
    "       \"project_id\": os.getenv(\"PROJECT_ID\"),\n",
    "       \"private_key_id\": os.getenv(\"PRIVATE_KEY_ID\"),\n",
    "       \"private_key\": os.getenv(\"PRIVATE_KEY\").replace(\"\\\\n\", \"\\n\"),\n",
    "       \"client_email\": os.getenv(\"CLIENT_EMAIL\"),\n",
    "       \"client_id\": os.getenv(\"CLIENT_ID\"),\n",
    "       \"auth_uri\": os.getenv(\"AUTH_URI\"),\n",
    "       \"token_uri\": os.getenv(\"TOKEN_URI\"),\n",
    "       \"auth_provider_x509_cert_url\": os.getenv(\"AUTH_PROVIDER_X509_CERT_URL\"),\n",
    "       \"client_x509_cert_url\": os.getenv(\"CLIENT_X509_CERT_URL\")\n",
    "    }\n",
    "    return variables_keys\n",
    "if os.environ.get('NETLIFY'):\n",
    "    gc = gs.service_account_from_dict(create_keyfile_dict())\n",
    "    sh = gc.open_by_url('https://docs.google.com/spreadsheets/d/1dpciJGykIvwxHWgWrw_KTVi10EisyUZ6cah962oaStI/edit?usp=sharing')\n",
    "    ws = sh.worksheet('Form responses 1')\n",
    "elif 'COLAB_GPU' in os.environ:\n",
    "    auth.authenticate_user()\n",
    "    creds, _ = default()\n",
    "    gc = gs.authorize(creds)\n",
    "    sh = gc.open_by_url('https://docs.google.com/spreadsheets/d/1dpciJGykIvwxHWgWrw_KTVi10EisyUZ6cah962oaStI/edit?usp=sharing')\n",
    "    ws = sh.worksheet('Form responses 1')\n",
    "else:\n",
    "    gc = gs.service_account(filename='../workedalloarc-53ba91a71aa2.json')\n",
    "    sh = gc.open_by_url('https://docs.google.com/spreadsheets/d/1dpciJGykIvwxHWgWrw_KTVi10EisyUZ6cah962oaStI/edit?usp=sharing')\n",
    "    ws = sh.worksheet('Form responses 1')"
   ]
  },
  {
   "cell_type": "markdown",
   "metadata": {},
   "source": [
    "## Load all the records\n",
    "\n",
    "Our assumption zero is that all the data is dirty and not to be trusted. Even validation isn't perfect.\n",
    "So we load it in first.\n",
    "\n",
    "We also make a dfclean into which we will create a 'clean' set of QSOs. We will generate a series of error rows too"
   ]
  },
  {
   "cell_type": "code",
   "execution_count": 5,
   "metadata": {},
   "outputs": [
    {
     "data": {
      "text/html": [
       "<div>\n",
       "<style scoped>\n",
       "    .dataframe tbody tr th:only-of-type {\n",
       "        vertical-align: middle;\n",
       "    }\n",
       "\n",
       "    .dataframe tbody tr th {\n",
       "        vertical-align: top;\n",
       "    }\n",
       "\n",
       "    .dataframe thead th {\n",
       "        text-align: right;\n",
       "    }\n",
       "</style>\n",
       "<table border=\"1\" class=\"dataframe\">\n",
       "  <thead>\n",
       "    <tr style=\"text-align: right;\">\n",
       "      <th></th>\n",
       "      <th>Timestamp</th>\n",
       "      <th>QSO Datetime (UTC)</th>\n",
       "      <th>Your Callsign</th>\n",
       "      <th>Their Callsign</th>\n",
       "      <th>Band</th>\n",
       "      <th>Mode</th>\n",
       "      <th>Locator Sent</th>\n",
       "      <th>Locator Received</th>\n",
       "      <th>SOTA / IOAT / Sat / Network information</th>\n",
       "      <th>Innovation</th>\n",
       "      <th>Any other details</th>\n",
       "    </tr>\n",
       "  </thead>\n",
       "  <tbody>\n",
       "    <tr>\n",
       "      <th>0</th>\n",
       "      <td>26/04/2022 20:34:04</td>\n",
       "      <td>27/04/2022 12:23:00</td>\n",
       "      <td>M0SMU</td>\n",
       "      <td>M7SMU</td>\n",
       "      <td>144 MHz (2m)</td>\n",
       "      <td>FM</td>\n",
       "      <td>IO81oj</td>\n",
       "      <td>IO81ql</td>\n",
       "      <td>EU-005</td>\n",
       "      <td>Not innovative at all</td>\n",
       "      <td>test</td>\n",
       "    </tr>\n",
       "    <tr>\n",
       "      <th>1</th>\n",
       "      <td>26/04/2022 20:34:35</td>\n",
       "      <td>19/04/2022 09:00:00</td>\n",
       "      <td>M0SMU</td>\n",
       "      <td>2E0UMS</td>\n",
       "      <td>7 MHz (40m)</td>\n",
       "      <td>SSB</td>\n",
       "      <td></td>\n",
       "      <td></td>\n",
       "      <td></td>\n",
       "      <td></td>\n",
       "      <td></td>\n",
       "    </tr>\n",
       "    <tr>\n",
       "      <th>2</th>\n",
       "      <td>26/04/2022 20:37:12</td>\n",
       "      <td>24/04/2021 11:00:00</td>\n",
       "      <td>2e0ggj</td>\n",
       "      <td>m0nvk</td>\n",
       "      <td>7 MHz (40m)</td>\n",
       "      <td>SSB</td>\n",
       "      <td>io95fb</td>\n",
       "      <td>m0nvk home qth</td>\n",
       "      <td></td>\n",
       "      <td>Ran one or two full courses :-)</td>\n",
       "      <td>Am a good egg !</td>\n",
       "    </tr>\n",
       "    <tr>\n",
       "      <th>3</th>\n",
       "      <td>26/04/2022 20:39:58</td>\n",
       "      <td>20/03/2022 19:31:00</td>\n",
       "      <td>mojqq</td>\n",
       "      <td>m0lte</td>\n",
       "      <td>7 MHz (40m)</td>\n",
       "      <td>Olivia</td>\n",
       "      <td>io95ec</td>\n",
       "      <td>nk</td>\n",
       "      <td></td>\n",
       "      <td></td>\n",
       "      <td></td>\n",
       "    </tr>\n",
       "    <tr>\n",
       "      <th>4</th>\n",
       "      <td>26/04/2022 20:41:07</td>\n",
       "      <td>26/04/2022 15:30:00</td>\n",
       "      <td>m0jqq</td>\n",
       "      <td>m0smu</td>\n",
       "      <td>144 MHz (2m)</td>\n",
       "      <td>DMR</td>\n",
       "      <td>none</td>\n",
       "      <td>none</td>\n",
       "      <td></td>\n",
       "      <td></td>\n",
       "      <td></td>\n",
       "    </tr>\n",
       "    <tr>\n",
       "      <th>5</th>\n",
       "      <td>26/04/2022 22:18:00</td>\n",
       "      <td>26/04/2022 22:04:00</td>\n",
       "      <td>M0SMU</td>\n",
       "      <td>2EØVCC/P</td>\n",
       "      <td>144 MHz (2m)</td>\n",
       "      <td>SSB</td>\n",
       "      <td></td>\n",
       "      <td></td>\n",
       "      <td></td>\n",
       "      <td></td>\n",
       "      <td></td>\n",
       "    </tr>\n",
       "    <tr>\n",
       "      <th>6</th>\n",
       "      <td>27/04/2022 12:27:40</td>\n",
       "      <td>27/04/2022 12:24:00</td>\n",
       "      <td>EI5IYB /P</td>\n",
       "      <td>M0SMU</td>\n",
       "      <td>Gamma Wave</td>\n",
       "      <td>Telepathy93</td>\n",
       "      <td>IO63we</td>\n",
       "      <td>IO81oj</td>\n",
       "      <td>Brain Waves</td>\n",
       "      <td>Well...</td>\n",
       "      <td>Detailed details</td>\n",
       "    </tr>\n",
       "    <tr>\n",
       "      <th>7</th>\n",
       "      <td>29/04/2022 11:28:11</td>\n",
       "      <td>28/04/2022 09:00:00</td>\n",
       "      <td>2E0UMS</td>\n",
       "      <td>M0OUK</td>\n",
       "      <td>144 MHz (2m)</td>\n",
       "      <td>SSB</td>\n",
       "      <td>IO81oj</td>\n",
       "      <td></td>\n",
       "      <td></td>\n",
       "      <td></td>\n",
       "      <td></td>\n",
       "    </tr>\n",
       "    <tr>\n",
       "      <th>8</th>\n",
       "      <td>29/04/2022 23:14:57</td>\n",
       "      <td>28/04/2022 21:22:00</td>\n",
       "      <td>EI5IYB</td>\n",
       "      <td>TF2MSN</td>\n",
       "      <td>7 MHz (40m)</td>\n",
       "      <td>FT8</td>\n",
       "      <td></td>\n",
       "      <td></td>\n",
       "      <td></td>\n",
       "      <td></td>\n",
       "      <td></td>\n",
       "    </tr>\n",
       "    <tr>\n",
       "      <th>9</th>\n",
       "      <td>29/04/2022 23:18:41</td>\n",
       "      <td>29/04/2022 22:17:00</td>\n",
       "      <td>EI5IYB</td>\n",
       "      <td>IW9FRA</td>\n",
       "      <td>7 MHz (40m)</td>\n",
       "      <td>FT8</td>\n",
       "      <td>IO63</td>\n",
       "      <td>JM68</td>\n",
       "      <td></td>\n",
       "      <td></td>\n",
       "      <td></td>\n",
       "    </tr>\n",
       "  </tbody>\n",
       "</table>\n",
       "</div>"
      ],
      "text/plain": [
       "             Timestamp   QSO Datetime (UTC) Your Callsign Their Callsign  \\\n",
       "0  26/04/2022 20:34:04  27/04/2022 12:23:00         M0SMU          M7SMU   \n",
       "1  26/04/2022 20:34:35  19/04/2022 09:00:00         M0SMU         2E0UMS   \n",
       "2  26/04/2022 20:37:12  24/04/2021 11:00:00        2e0ggj          m0nvk   \n",
       "3  26/04/2022 20:39:58  20/03/2022 19:31:00         mojqq          m0lte   \n",
       "4  26/04/2022 20:41:07  26/04/2022 15:30:00         m0jqq          m0smu   \n",
       "5  26/04/2022 22:18:00  26/04/2022 22:04:00         M0SMU       2EØVCC/P   \n",
       "6  27/04/2022 12:27:40  27/04/2022 12:24:00     EI5IYB /P          M0SMU   \n",
       "7  29/04/2022 11:28:11  28/04/2022 09:00:00        2E0UMS          M0OUK   \n",
       "8  29/04/2022 23:14:57  28/04/2022 21:22:00        EI5IYB         TF2MSN   \n",
       "9  29/04/2022 23:18:41  29/04/2022 22:17:00        EI5IYB         IW9FRA   \n",
       "\n",
       "           Band         Mode Locator Sent Locator Received  \\\n",
       "0  144 MHz (2m)           FM       IO81oj           IO81ql   \n",
       "1   7 MHz (40m)          SSB                                 \n",
       "2   7 MHz (40m)          SSB       io95fb   m0nvk home qth   \n",
       "3   7 MHz (40m)       Olivia       io95ec               nk   \n",
       "4  144 MHz (2m)          DMR         none             none   \n",
       "5  144 MHz (2m)          SSB                                 \n",
       "6    Gamma Wave  Telepathy93       IO63we           IO81oj   \n",
       "7  144 MHz (2m)          SSB       IO81oj                    \n",
       "8   7 MHz (40m)          FT8                                 \n",
       "9   7 MHz (40m)          FT8         IO63             JM68   \n",
       "\n",
       "  SOTA / IOAT / Sat / Network information                       Innovation  \\\n",
       "0                                  EU-005            Not innovative at all   \n",
       "1                                                                            \n",
       "2                                          Ran one or two full courses :-)   \n",
       "3                                                                            \n",
       "4                                                                            \n",
       "5                                                                            \n",
       "6                             Brain Waves                          Well...   \n",
       "7                                                                            \n",
       "8                                                                            \n",
       "9                                                                            \n",
       "\n",
       "  Any other details  \n",
       "0              test  \n",
       "1                    \n",
       "2   Am a good egg !  \n",
       "3                    \n",
       "4                    \n",
       "5                    \n",
       "6  Detailed details  \n",
       "7                    \n",
       "8                    \n",
       "9                    "
      ]
     },
     "execution_count": 5,
     "metadata": {},
     "output_type": "execute_result"
    }
   ],
   "source": [
    "df = pd.DataFrame(ws.get_all_records())\n",
    "dfclean = df\n",
    "df.head(10)"
   ]
  },
  {
   "cell_type": "markdown",
   "metadata": {},
   "source": [
    "## Cleaning up callsigns\n",
    "\n",
    "So the first job is to clean up the callsigns, you can't have a QSO without two valid callsigns!\n",
    "\n",
    "I've found a good regex to split out a callsign into components (prefix, letters, number, letters, suffix), but as we will see later, that isn't enough to extract the DXCC from a callsign."
   ]
  },
  {
   "cell_type": "code",
   "execution_count": 6,
   "metadata": {},
   "outputs": [
    {
     "data": {
      "text/html": [
       "<div>\n",
       "<style scoped>\n",
       "    .dataframe tbody tr th:only-of-type {\n",
       "        vertical-align: middle;\n",
       "    }\n",
       "\n",
       "    .dataframe tbody tr th {\n",
       "        vertical-align: top;\n",
       "    }\n",
       "\n",
       "    .dataframe thead th {\n",
       "        text-align: right;\n",
       "    }\n",
       "</style>\n",
       "<table border=\"1\" class=\"dataframe\">\n",
       "  <thead>\n",
       "    <tr style=\"text-align: right;\">\n",
       "      <th></th>\n",
       "      <th>Timestamp</th>\n",
       "      <th>QSO Datetime (UTC)</th>\n",
       "      <th>Your Callsign</th>\n",
       "      <th>Their Callsign</th>\n",
       "      <th>Band</th>\n",
       "      <th>Mode</th>\n",
       "      <th>Locator Sent</th>\n",
       "      <th>Locator Received</th>\n",
       "      <th>SOTA / IOAT / Sat / Network information</th>\n",
       "      <th>Innovation</th>\n",
       "      <th>Any other details</th>\n",
       "      <th>Your Callsign Clean</th>\n",
       "      <th>Your DXCC</th>\n",
       "      <th>Your Prefix</th>\n",
       "      <th>Your Suffix</th>\n",
       "      <th>Their Callsign Clean</th>\n",
       "      <th>Their DXCC</th>\n",
       "      <th>Their Prefix</th>\n",
       "      <th>Their Suffix</th>\n",
       "    </tr>\n",
       "  </thead>\n",
       "  <tbody>\n",
       "    <tr>\n",
       "      <th>0</th>\n",
       "      <td>26/04/2022 20:34:04</td>\n",
       "      <td>27/04/2022 12:23:00</td>\n",
       "      <td>M0SMU</td>\n",
       "      <td>M7SMU</td>\n",
       "      <td>144 MHz (2m)</td>\n",
       "      <td>FM</td>\n",
       "      <td>IO81oj</td>\n",
       "      <td>IO81ql</td>\n",
       "      <td>EU-005</td>\n",
       "      <td>Not innovative at all</td>\n",
       "      <td>test</td>\n",
       "      <td>M0SMU</td>\n",
       "      <td>M</td>\n",
       "      <td>NaN</td>\n",
       "      <td>NaN</td>\n",
       "      <td>M7SMU</td>\n",
       "      <td>M</td>\n",
       "      <td>NaN</td>\n",
       "      <td>NaN</td>\n",
       "    </tr>\n",
       "    <tr>\n",
       "      <th>1</th>\n",
       "      <td>26/04/2022 20:34:35</td>\n",
       "      <td>19/04/2022 09:00:00</td>\n",
       "      <td>M0SMU</td>\n",
       "      <td>2E0UMS</td>\n",
       "      <td>7 MHz (40m)</td>\n",
       "      <td>SSB</td>\n",
       "      <td></td>\n",
       "      <td></td>\n",
       "      <td></td>\n",
       "      <td></td>\n",
       "      <td></td>\n",
       "      <td>M0SMU</td>\n",
       "      <td>M</td>\n",
       "      <td>NaN</td>\n",
       "      <td>NaN</td>\n",
       "      <td>2E0UMS</td>\n",
       "      <td>2E</td>\n",
       "      <td>NaN</td>\n",
       "      <td>NaN</td>\n",
       "    </tr>\n",
       "    <tr>\n",
       "      <th>2</th>\n",
       "      <td>26/04/2022 20:37:12</td>\n",
       "      <td>24/04/2021 11:00:00</td>\n",
       "      <td>2e0ggj</td>\n",
       "      <td>m0nvk</td>\n",
       "      <td>7 MHz (40m)</td>\n",
       "      <td>SSB</td>\n",
       "      <td>io95fb</td>\n",
       "      <td>m0nvk home qth</td>\n",
       "      <td></td>\n",
       "      <td>Ran one or two full courses :-)</td>\n",
       "      <td>Am a good egg !</td>\n",
       "      <td>2E0GGJ</td>\n",
       "      <td>2E</td>\n",
       "      <td>NaN</td>\n",
       "      <td>NaN</td>\n",
       "      <td>M0NVK</td>\n",
       "      <td>M</td>\n",
       "      <td>NaN</td>\n",
       "      <td>NaN</td>\n",
       "    </tr>\n",
       "    <tr>\n",
       "      <th>3</th>\n",
       "      <td>26/04/2022 20:39:58</td>\n",
       "      <td>20/03/2022 19:31:00</td>\n",
       "      <td>mojqq</td>\n",
       "      <td>m0lte</td>\n",
       "      <td>7 MHz (40m)</td>\n",
       "      <td>Olivia</td>\n",
       "      <td>io95ec</td>\n",
       "      <td>nk</td>\n",
       "      <td></td>\n",
       "      <td></td>\n",
       "      <td></td>\n",
       "      <td>MOJQQ</td>\n",
       "      <td>NaN</td>\n",
       "      <td>NaN</td>\n",
       "      <td>NaN</td>\n",
       "      <td>M0LTE</td>\n",
       "      <td>M</td>\n",
       "      <td>NaN</td>\n",
       "      <td>NaN</td>\n",
       "    </tr>\n",
       "    <tr>\n",
       "      <th>4</th>\n",
       "      <td>26/04/2022 20:41:07</td>\n",
       "      <td>26/04/2022 15:30:00</td>\n",
       "      <td>m0jqq</td>\n",
       "      <td>m0smu</td>\n",
       "      <td>144 MHz (2m)</td>\n",
       "      <td>DMR</td>\n",
       "      <td>none</td>\n",
       "      <td>none</td>\n",
       "      <td></td>\n",
       "      <td></td>\n",
       "      <td></td>\n",
       "      <td>M0JQQ</td>\n",
       "      <td>M</td>\n",
       "      <td>NaN</td>\n",
       "      <td>NaN</td>\n",
       "      <td>M0SMU</td>\n",
       "      <td>M</td>\n",
       "      <td>NaN</td>\n",
       "      <td>NaN</td>\n",
       "    </tr>\n",
       "    <tr>\n",
       "      <th>5</th>\n",
       "      <td>26/04/2022 22:18:00</td>\n",
       "      <td>26/04/2022 22:04:00</td>\n",
       "      <td>M0SMU</td>\n",
       "      <td>2EØVCC/P</td>\n",
       "      <td>144 MHz (2m)</td>\n",
       "      <td>SSB</td>\n",
       "      <td></td>\n",
       "      <td></td>\n",
       "      <td></td>\n",
       "      <td></td>\n",
       "      <td></td>\n",
       "      <td>M0SMU</td>\n",
       "      <td>M</td>\n",
       "      <td>NaN</td>\n",
       "      <td>NaN</td>\n",
       "      <td>2E0VCC/P</td>\n",
       "      <td>2E</td>\n",
       "      <td>NaN</td>\n",
       "      <td>/P</td>\n",
       "    </tr>\n",
       "    <tr>\n",
       "      <th>6</th>\n",
       "      <td>27/04/2022 12:27:40</td>\n",
       "      <td>27/04/2022 12:24:00</td>\n",
       "      <td>EI5IYB /P</td>\n",
       "      <td>M0SMU</td>\n",
       "      <td>Gamma Wave</td>\n",
       "      <td>Telepathy93</td>\n",
       "      <td>IO63we</td>\n",
       "      <td>IO81oj</td>\n",
       "      <td>Brain Waves</td>\n",
       "      <td>Well...</td>\n",
       "      <td>Detailed details</td>\n",
       "      <td>EI5IYB/P</td>\n",
       "      <td>EI</td>\n",
       "      <td>NaN</td>\n",
       "      <td>/P</td>\n",
       "      <td>M0SMU</td>\n",
       "      <td>M</td>\n",
       "      <td>NaN</td>\n",
       "      <td>NaN</td>\n",
       "    </tr>\n",
       "    <tr>\n",
       "      <th>7</th>\n",
       "      <td>29/04/2022 11:28:11</td>\n",
       "      <td>28/04/2022 09:00:00</td>\n",
       "      <td>2E0UMS</td>\n",
       "      <td>M0OUK</td>\n",
       "      <td>144 MHz (2m)</td>\n",
       "      <td>SSB</td>\n",
       "      <td>IO81oj</td>\n",
       "      <td></td>\n",
       "      <td></td>\n",
       "      <td></td>\n",
       "      <td></td>\n",
       "      <td>2E0UMS</td>\n",
       "      <td>2E</td>\n",
       "      <td>NaN</td>\n",
       "      <td>NaN</td>\n",
       "      <td>M0OUK</td>\n",
       "      <td>M</td>\n",
       "      <td>NaN</td>\n",
       "      <td>NaN</td>\n",
       "    </tr>\n",
       "    <tr>\n",
       "      <th>8</th>\n",
       "      <td>29/04/2022 23:14:57</td>\n",
       "      <td>28/04/2022 21:22:00</td>\n",
       "      <td>EI5IYB</td>\n",
       "      <td>TF2MSN</td>\n",
       "      <td>7 MHz (40m)</td>\n",
       "      <td>FT8</td>\n",
       "      <td></td>\n",
       "      <td></td>\n",
       "      <td></td>\n",
       "      <td></td>\n",
       "      <td></td>\n",
       "      <td>EI5IYB</td>\n",
       "      <td>EI</td>\n",
       "      <td>NaN</td>\n",
       "      <td>NaN</td>\n",
       "      <td>TF2MSN</td>\n",
       "      <td>TF</td>\n",
       "      <td>NaN</td>\n",
       "      <td>NaN</td>\n",
       "    </tr>\n",
       "    <tr>\n",
       "      <th>9</th>\n",
       "      <td>29/04/2022 23:18:41</td>\n",
       "      <td>29/04/2022 22:17:00</td>\n",
       "      <td>EI5IYB</td>\n",
       "      <td>IW9FRA</td>\n",
       "      <td>7 MHz (40m)</td>\n",
       "      <td>FT8</td>\n",
       "      <td>IO63</td>\n",
       "      <td>JM68</td>\n",
       "      <td></td>\n",
       "      <td></td>\n",
       "      <td></td>\n",
       "      <td>EI5IYB</td>\n",
       "      <td>EI</td>\n",
       "      <td>NaN</td>\n",
       "      <td>NaN</td>\n",
       "      <td>IW9FRA</td>\n",
       "      <td>IW</td>\n",
       "      <td>NaN</td>\n",
       "      <td>NaN</td>\n",
       "    </tr>\n",
       "  </tbody>\n",
       "</table>\n",
       "</div>"
      ],
      "text/plain": [
       "             Timestamp   QSO Datetime (UTC) Your Callsign Their Callsign  \\\n",
       "0  26/04/2022 20:34:04  27/04/2022 12:23:00         M0SMU          M7SMU   \n",
       "1  26/04/2022 20:34:35  19/04/2022 09:00:00         M0SMU         2E0UMS   \n",
       "2  26/04/2022 20:37:12  24/04/2021 11:00:00        2e0ggj          m0nvk   \n",
       "3  26/04/2022 20:39:58  20/03/2022 19:31:00         mojqq          m0lte   \n",
       "4  26/04/2022 20:41:07  26/04/2022 15:30:00         m0jqq          m0smu   \n",
       "5  26/04/2022 22:18:00  26/04/2022 22:04:00         M0SMU       2EØVCC/P   \n",
       "6  27/04/2022 12:27:40  27/04/2022 12:24:00     EI5IYB /P          M0SMU   \n",
       "7  29/04/2022 11:28:11  28/04/2022 09:00:00        2E0UMS          M0OUK   \n",
       "8  29/04/2022 23:14:57  28/04/2022 21:22:00        EI5IYB         TF2MSN   \n",
       "9  29/04/2022 23:18:41  29/04/2022 22:17:00        EI5IYB         IW9FRA   \n",
       "\n",
       "           Band         Mode Locator Sent Locator Received  \\\n",
       "0  144 MHz (2m)           FM       IO81oj           IO81ql   \n",
       "1   7 MHz (40m)          SSB                                 \n",
       "2   7 MHz (40m)          SSB       io95fb   m0nvk home qth   \n",
       "3   7 MHz (40m)       Olivia       io95ec               nk   \n",
       "4  144 MHz (2m)          DMR         none             none   \n",
       "5  144 MHz (2m)          SSB                                 \n",
       "6    Gamma Wave  Telepathy93       IO63we           IO81oj   \n",
       "7  144 MHz (2m)          SSB       IO81oj                    \n",
       "8   7 MHz (40m)          FT8                                 \n",
       "9   7 MHz (40m)          FT8         IO63             JM68   \n",
       "\n",
       "  SOTA / IOAT / Sat / Network information                       Innovation  \\\n",
       "0                                  EU-005            Not innovative at all   \n",
       "1                                                                            \n",
       "2                                          Ran one or two full courses :-)   \n",
       "3                                                                            \n",
       "4                                                                            \n",
       "5                                                                            \n",
       "6                             Brain Waves                          Well...   \n",
       "7                                                                            \n",
       "8                                                                            \n",
       "9                                                                            \n",
       "\n",
       "  Any other details Your Callsign Clean Your DXCC Your Prefix Your Suffix  \\\n",
       "0              test               M0SMU         M         NaN         NaN   \n",
       "1                                 M0SMU         M         NaN         NaN   \n",
       "2   Am a good egg !              2E0GGJ        2E         NaN         NaN   \n",
       "3                                 MOJQQ       NaN         NaN         NaN   \n",
       "4                                 M0JQQ         M         NaN         NaN   \n",
       "5                                 M0SMU         M         NaN         NaN   \n",
       "6  Detailed details            EI5IYB/P        EI         NaN          /P   \n",
       "7                                2E0UMS        2E         NaN         NaN   \n",
       "8                                EI5IYB        EI         NaN         NaN   \n",
       "9                                EI5IYB        EI         NaN         NaN   \n",
       "\n",
       "  Their Callsign Clean Their DXCC Their Prefix Their Suffix  \n",
       "0                M7SMU          M          NaN          NaN  \n",
       "1               2E0UMS         2E          NaN          NaN  \n",
       "2                M0NVK          M          NaN          NaN  \n",
       "3                M0LTE          M          NaN          NaN  \n",
       "4                M0SMU          M          NaN          NaN  \n",
       "5             2E0VCC/P         2E          NaN           /P  \n",
       "6                M0SMU          M          NaN          NaN  \n",
       "7                M0OUK          M          NaN          NaN  \n",
       "8               TF2MSN         TF          NaN          NaN  \n",
       "9               IW9FRA         IW          NaN          NaN  "
      ]
     },
     "execution_count": 6,
     "metadata": {},
     "output_type": "execute_result"
    }
   ],
   "source": [
    "# Next we clean the callsigns up and find any prefix / suffix and the DXCC\n",
    "regex = re.compile('^([A-Z0-9]+[\\/])?([A-Z][0-9]|[A-Z]{1,2}|[0-9][A-Z])([0-9]|[0-9]+)([A-Z]+)([\\/][A-Z0-9]+)?')\n",
    "df['Your Callsign Clean'] = df['Your Callsign'].str.upper().str.replace(' ', '').str.replace('Ø', '0')\n",
    "df['Your DXCC'] = df['Your Callsign Clean'].str.extract(regex, expand=True)[1]\n",
    "df['Your Prefix'] = df['Your Callsign Clean'].str.extract(regex, expand=True)[0]\n",
    "df['Your Suffix'] = df['Your Callsign Clean'].str.extract(regex, expand=True)[4]\n",
    "df['Their Callsign Clean'] = df['Their Callsign'].str.upper().str.replace(' ', '').str.replace('Ø', '0')\n",
    "df['Their DXCC'] = df['Their Callsign Clean'].str.extract(regex, expand=True)[1]\n",
    "df['Their Prefix'] = df['Their Callsign Clean'].str.extract(regex, expand=True)[0]\n",
    "df['Their Suffix'] = df['Their Callsign Clean'].str.extract(regex, expand=True)[4]\n",
    "df.head(10)\n"
   ]
  },
  {
   "cell_type": "markdown",
   "metadata": {},
   "source": [
    "### Clean up callsigns in dfclean\n",
    "\n",
    "Remove suffix and have suffix in another column (My Suffix, Their Suffix)"
   ]
  },
  {
   "cell_type": "code",
   "execution_count": 7,
   "metadata": {},
   "outputs": [],
   "source": [
    "dfclean['Your Callsign'] = df['Your Callsign'].str.upper().str.replace(' ', '').str.replace('Ø', '0')\n",
    "#df['Your DXCC'] = df['Your Callsign Clean'].str.extract(regex, expand=True)[1]\n",
    "dfclean['Your Prefix'] = dfclean['Your Callsign'].str.extract(regex, expand=True)[0]\n",
    "dfclean['Your Suffix'] = dfclean['Your Callsign'].str.extract(regex, expand=True)[4]\n",
    "dfclean['Their Callsign'] = df['Their Callsign'].str.upper().str.replace(' ', '').str.replace('Ø', '0')\n",
    "#df['Their DXCC'] = df['Their Callsign Clean'].str.extract(regex, expand=True)[1]\n",
    "dfclean['Their Prefix'] = dfclean['Their Callsign'].str.extract(regex, expand=True)[0]\n",
    "dfclean['Their Suffix'] = dfclean['Their Callsign'].str.extract(regex, expand=True)[4]"
   ]
  },
  {
   "cell_type": "markdown",
   "metadata": {},
   "source": [
    "## WIP - DXCC parsing\n",
    "\n",
    "I'm using [ctyparser](https://github.com/miaowware/ctyparser) to find DXCC. This requires using a `cty.dat` file, that I'm hosting in the github rep. I could point at it, but I'd rather control it and update it when I have time to test any changes."
   ]
  },
  {
   "cell_type": "code",
   "execution_count": 8,
   "metadata": {},
   "outputs": [],
   "source": [
    "# Check the DXCC is valid\n",
    "cty = ctyparser.BigCty()\n",
    "if 'COLAB_GPU' in os.environ:\n",
    "    drive.mount('/content/drive')\n",
    "    cty.import_dat('/content/drive/My Drive/Python imports/WAOARC/cty.dat')\n",
    "else:\n",
    "    cty.import_dat('cty.dat')\n",
    "#df['Valid Your DXCC'] = df['Your DXCC'].isin(cty.keys())\n",
    "#df['Valid Their DXCC'] = df['Their DXCC'].isin(cty.keys())\n",
    "#print(cty['VK'])\n",
    "#dxccs = {}\n",
    "#for dx in cty.items():\n",
    "#    dxccs[dx[0]] = dx[1]['entity']\n",
    "#df['Full Your DXCC'] = df['Your DXCC'].map(dxccs)\n",
    "#df['Full Their DXCC'] = df['Their DXCC'].map(dxccs)\n",
    "#df.head(10)"
   ]
  },
  {
   "cell_type": "markdown",
   "metadata": {},
   "source": [
    "## DXCC parsing - a worked example\n",
    "\n",
    "Let's look at the callsign IW9AAB"
   ]
  },
  {
   "cell_type": "code",
   "execution_count": 9,
   "metadata": {},
   "outputs": [
    {
     "name": "stdout",
     "output_type": "stream",
     "text": [
      "IW9AAB\n",
      "IW9AA\n",
      "IW9A\n",
      "IW9\n",
      "['Italy', 'Sicily (not DXCC)']\n"
     ]
    }
   ],
   "source": [
    "#print(cty['IW9'])\n",
    "search_key = 'IW9AAB'\n",
    "for idx in range(len(search_key)):\n",
    "    if idx == 0:\n",
    "        short_key = search_key\n",
    "    else:\n",
    "        short_key = search_key[:-(idx)]\n",
    "    print(short_key)\n",
    "    res = [val for key, val in cty.items() if short_key in key]\n",
    "    if res != []:\n",
    "        a_key = 'entity'\n",
    "        values_of_key = [a_dict[a_key] for a_dict in res]\n",
    "        break\n",
    "print(values_of_key)"
   ]
  },
  {
   "cell_type": "markdown",
   "metadata": {},
   "source": [
    "## Example interaction\n",
    "\n",
    "### Show 'my' QSOs\n",
    "\n",
    "Note this is disabled in Netlify (as it doesn't work...)"
   ]
  },
  {
   "cell_type": "code",
   "execution_count": 10,
   "metadata": {},
   "outputs": [
    {
     "data": {
      "application/vnd.jupyter.widget-view+json": {
       "model_id": "6dde9479c1b244b8a6103594ad849dec",
       "version_major": 2,
       "version_minor": 0
      },
      "text/plain": [
       "interactive(children=(Dropdown(description='Callsign', options=('M0SMU', '2E0GGJ', 'MOJQQ', 'M0JQQ', 'EI5IYB/P…"
      ]
     },
     "metadata": {},
     "output_type": "display_data"
    }
   ],
   "source": [
    "if os.environ.get('NETLIFY'):\n",
    "    print(\"Sadly we can't do interactivity in Netlify environment - I need to find a work around\")\n",
    "else:\n",
    "    @interact\n",
    "    def show_my_QSO(Callsign = df['Your Callsign Clean'].unique()):\n",
    "        return df.loc[df['Your Callsign Clean'].values==Callsign]"
   ]
  },
  {
   "cell_type": "markdown",
   "metadata": {},
   "source": [
    "### Show QSOs by Band and Mode"
   ]
  },
  {
   "cell_type": "code",
   "execution_count": 11,
   "metadata": {},
   "outputs": [
    {
     "name": "stdout",
     "output_type": "stream",
     "text": [
      "['144 MHz (2m)' '7 MHz (40m)' 'Gamma Wave']\n",
      "['FM' 'SSB' 'Olivia' 'DMR' 'Telepathy93' 'FT8']\n"
     ]
    },
    {
     "data": {
      "application/vnd.jupyter.widget-view+json": {
       "model_id": "1fe4ef9cd7ef43dcb3bf685fdc51cbeb",
       "version_major": 2,
       "version_minor": 0
      },
      "text/plain": [
       "interactive(children=(Dropdown(description='Band', options=('144 MHz (2m)', '7 MHz (40m)', 'Gamma Wave'), valu…"
      ]
     },
     "metadata": {},
     "output_type": "display_data"
    }
   ],
   "source": [
    "print(df['Band'].unique())\n",
    "print(df['Mode'].unique())\n",
    "if os.environ.get('NETLIFY'):\n",
    "    print(\"Sadly we can't do interactivity in Netlify environment - I need to find a work around\")\n",
    "else:\n",
    "    @interact\n",
    "    def show_by_band_mode(Band = df['Band'].unique(), Mode = df['Mode'].unique()):\n",
    "        return df.loc[(df['Band'].values==Band) & (df['Mode'].values==Mode)]"
   ]
  },
  {
   "cell_type": "markdown",
   "metadata": {},
   "source": [
    "## Plotting some graphs"
   ]
  },
  {
   "cell_type": "code",
   "execution_count": 12,
   "metadata": {},
   "outputs": [
    {
     "data": {
      "text/plain": [
       "Text(0, 0.5, 'Band')"
      ]
     },
     "execution_count": 12,
     "metadata": {},
     "output_type": "execute_result"
    },
    {
     "data": {
      "image/png": "[encoded data removed]",
      "text/plain": [
       "<Figure size 432x288 with 1 Axes>"
      ]
     },
     "metadata": {
      "needs_background": "light"
     },
     "output_type": "display_data"
    }
   ],
   "source": [
    "bandplot = df['Band'].value_counts().plot(kind = 'bar')\n",
    "bandplot.set_title('QSOs by Band')\n",
    "bandplot.set_xlabel('Count')\n",
    "bandplot.set_ylabel('Band')"
   ]
  },
  {
   "cell_type": "code",
   "execution_count": 13,
   "metadata": {},
   "outputs": [
    {
     "data": {
      "text/plain": [
       "Text(0, 0.5, 'Mode')"
      ]
     },
     "execution_count": 13,
     "metadata": {},
     "output_type": "execute_result"
    },
    {
     "data": {
      "image/png": "[encoded data removed]",
      "text/plain": [
       "<Figure size 432x288 with 1 Axes>"
      ]
     },
     "metadata": {
      "needs_background": "light"
     },
     "output_type": "display_data"
    }
   ],
   "source": [
    "modeplot = df['Mode'].value_counts().plot(kind = 'bar')\n",
    "modeplot.set_title('QSOs by Mode')\n",
    "modeplot.set_xlabel('Count')\n",
    "modeplot.set_ylabel('Mode')"
   ]
  },
  {
   "cell_type": "code",
   "execution_count": 14,
   "metadata": {},
   "outputs": [
    {
     "data": {
      "text/plain": [
       "Text(0, 0.5, 'Callsign')"
      ]
     },
     "execution_count": 14,
     "metadata": {},
     "output_type": "execute_result"
    },
    {
     "data": {
      "image/png": "[encoded data removed]",
      "text/plain": [
       "<Figure size 432x288 with 1 Axes>"
      ]
     },
     "metadata": {
      "needs_background": "light"
     },
     "output_type": "display_data"
    }
   ],
   "source": [
    "callplot = df['Your Callsign Clean'].value_counts().plot(kind = 'bar')\n",
    "callplot.set_title('QSOs by Callsign')\n",
    "callplot.set_xlabel('Count')\n",
    "callplot.set_ylabel('Callsign')"
   ]
  },
  {
   "cell_type": "code",
   "execution_count": 15,
   "metadata": {},
   "outputs": [
    {
     "data": {
      "image/png": "[encoded data removed]",
      "text/plain": [
       "<Figure size 432x288 with 1 Axes>"
      ]
     },
     "metadata": {
      "needs_background": "light"
     },
     "output_type": "display_data"
    }
   ],
   "source": [
    "bandmodeplot = df.groupby(['Band','Mode']).size().reset_index(name='count').plot.scatter(x='Band', y='Mode', s='count')"
   ]
  },
  {
   "cell_type": "code",
   "execution_count": 16,
   "metadata": {},
   "outputs": [
    {
     "data": {
      "image/png": "[encoded data removed]",
      "text/plain": [
       "<Figure size 432x288 with 1 Axes>"
      ]
     },
     "metadata": {
      "needs_background": "light"
     },
     "output_type": "display_data"
    }
   ],
   "source": [
    "callsignmodeplot = df.groupby(['Your Callsign Clean','Mode']).size().reset_index(name='count').plot.scatter(x='Your Callsign Clean', y='Mode', s='count')"
   ]
  },
  {
   "cell_type": "markdown",
   "metadata": {},
   "source": [
    "## Mapping\n",
    "\n",
    "This notebook uses ipyleaflet maps"
   ]
  },
  {
   "cell_type": "code",
   "execution_count": 17,
   "metadata": {},
   "outputs": [
    {
     "data": {
      "application/vnd.jupyter.widget-view+json": {
       "model_id": "863fc992ab0f434e8c4254f7a4ee9bca",
       "version_major": 2,
       "version_minor": 0
      },
      "text/plain": [
       "Map(center=[48.204, 350.121], controls=(ZoomControl(options=['position', 'zoom_in_text', 'zoom_in_title', 'zoo…"
      ]
     },
     "metadata": {},
     "output_type": "display_data"
    }
   ],
   "source": [
    "m = Map(\n",
    "    basemap=basemap_to_tiles(basemaps.OpenStreetMap.Mapnik),\n",
    "    center=(48.204, 350.121),\n",
    "    zoom=3\n",
    "    )\n",
    "m"
   ]
  },
  {
   "cell_type": "code",
   "execution_count": 18,
   "metadata": {},
   "outputs": [
    {
     "data": {
      "application/vnd.jupyter.widget-view+json": {
       "model_id": "4c403441a26a4289982ad424aacc328f",
       "version_major": 2,
       "version_minor": 0
      },
      "text/plain": [
       "Map(center=[51, -2], controls=(ZoomControl(options=['position', 'zoom_in_text', 'zoom_in_title', 'zoom_out_tex…"
      ]
     },
     "metadata": {},
     "output_type": "display_data"
    }
   ],
   "source": [
    "qth = []\n",
    "for i in range(len(df)):\n",
    "    if len(df.iloc[i]['Locator Sent'])>4:\n",
    "        qth.append([mh.to_location(df.iloc[i]['Locator Sent'])[0],\n",
    "                    mh.to_location(df.iloc[i]['Locator Sent'])[1]])\n",
    "Test_map = Map(basemap=basemaps.Stamen.Toner, center = [51, -2], zoom = 3)\n",
    "list_of_markers = [Marker(location=x, draggable=False) for x in qth]\n",
    "Test_map.add_layer(MarkerCluster(markers=list_of_markers));\n",
    "display(Test_map)"
   ]
  }
 ],
 "metadata": {
  "interpreter": {
   "hash": "38fdd05de296753c6900debbac591be44e70925d283ea12725a778f77f4c6aed"
  },
  "kernelspec": {
   "display_name": "Python 3.7.3 32-bit",
   "language": "python",
   "name": "python3"
  },
  "language_info": {
   "codemirror_mode": {
    "name": "ipython",
    "version": 3
   },
   "file_extension": ".py",
   "mimetype": "text/x-python",
   "name": "python",
   "nbconvert_exporter": "python",
   "pygments_lexer": "ipython3",
   "version": "3.7.3"
  },
  "orig_nbformat": 4
 },
 "nbformat": 4,
 "nbformat_minor": 2
}
